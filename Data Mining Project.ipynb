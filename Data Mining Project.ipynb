{
 "cells": [
  {
   "cell_type": "code",
   "execution_count": 1,
   "metadata": {},
   "outputs": [],
   "source": [
    "import numpy as np\n",
    "import pandas as pd\n",
    "import matplotlib.pyplot as plt\n",
    "import sklearn\n",
    "import seaborn as sns\n",
    "from sklearn.decomposition import TruncatedSVD"
   ]
  },
  {
   "cell_type": "code",
   "execution_count": 2,
   "metadata": {},
   "outputs": [],
   "source": [
    "ratings_data=pd.read_csv(\"ratings_Video_Games.csv\",names=['userId', 'productId','Rating','timestamp'])\n",
    "ratings_data.drop(['timestamp'], axis=1,inplace=True)"
   ]
  },
  {
   "cell_type": "code",
   "execution_count": 3,
   "metadata": {},
   "outputs": [
    {
     "data": {
      "text/html": [
       "<div>\n",
       "<style scoped>\n",
       "    .dataframe tbody tr th:only-of-type {\n",
       "        vertical-align: middle;\n",
       "    }\n",
       "\n",
       "    .dataframe tbody tr th {\n",
       "        vertical-align: top;\n",
       "    }\n",
       "\n",
       "    .dataframe thead th {\n",
       "        text-align: right;\n",
       "    }\n",
       "</style>\n",
       "<table border=\"1\" class=\"dataframe\">\n",
       "  <thead>\n",
       "    <tr style=\"text-align: right;\">\n",
       "      <th></th>\n",
       "      <th>userId</th>\n",
       "      <th>productId</th>\n",
       "      <th>Rating</th>\n",
       "    </tr>\n",
       "  </thead>\n",
       "  <tbody>\n",
       "    <tr>\n",
       "      <th>0</th>\n",
       "      <td>0439381673</td>\n",
       "      <td>A21ROB4YDOZA5P</td>\n",
       "      <td>1.0</td>\n",
       "    </tr>\n",
       "    <tr>\n",
       "      <th>1</th>\n",
       "      <td>0439381673</td>\n",
       "      <td>A3TNZ2Q5E7HTHD</td>\n",
       "      <td>3.0</td>\n",
       "    </tr>\n",
       "    <tr>\n",
       "      <th>2</th>\n",
       "      <td>0439381673</td>\n",
       "      <td>A1OKRM3QFEATQO</td>\n",
       "      <td>4.0</td>\n",
       "    </tr>\n",
       "    <tr>\n",
       "      <th>3</th>\n",
       "      <td>0439381673</td>\n",
       "      <td>A2XO1JFCNEYV3T</td>\n",
       "      <td>1.0</td>\n",
       "    </tr>\n",
       "    <tr>\n",
       "      <th>4</th>\n",
       "      <td>0439381673</td>\n",
       "      <td>A19WLPIRHD15TH</td>\n",
       "      <td>4.0</td>\n",
       "    </tr>\n",
       "    <tr>\n",
       "      <th>5</th>\n",
       "      <td>0439381673</td>\n",
       "      <td>A1TLA7XXSZMTS7</td>\n",
       "      <td>5.0</td>\n",
       "    </tr>\n",
       "    <tr>\n",
       "      <th>6</th>\n",
       "      <td>0439381673</td>\n",
       "      <td>A3I9GK5OO42B0I</td>\n",
       "      <td>3.0</td>\n",
       "    </tr>\n",
       "    <tr>\n",
       "      <th>7</th>\n",
       "      <td>0439381673</td>\n",
       "      <td>A3TPP95Y9DH3L9</td>\n",
       "      <td>5.0</td>\n",
       "    </tr>\n",
       "    <tr>\n",
       "      <th>8</th>\n",
       "      <td>0439381673</td>\n",
       "      <td>A19GOZTT15KPG1</td>\n",
       "      <td>5.0</td>\n",
       "    </tr>\n",
       "    <tr>\n",
       "      <th>9</th>\n",
       "      <td>0439381673</td>\n",
       "      <td>A1441WFJ5KRP7J</td>\n",
       "      <td>5.0</td>\n",
       "    </tr>\n",
       "    <tr>\n",
       "      <th>10</th>\n",
       "      <td>0439381673</td>\n",
       "      <td>ATVYWID968EUQ</td>\n",
       "      <td>5.0</td>\n",
       "    </tr>\n",
       "    <tr>\n",
       "      <th>11</th>\n",
       "      <td>0439381673</td>\n",
       "      <td>A3FGRYQWUEM6UP</td>\n",
       "      <td>5.0</td>\n",
       "    </tr>\n",
       "    <tr>\n",
       "      <th>12</th>\n",
       "      <td>0439381673</td>\n",
       "      <td>AKQPJ6MMWXRP9</td>\n",
       "      <td>1.0</td>\n",
       "    </tr>\n",
       "    <tr>\n",
       "      <th>13</th>\n",
       "      <td>0439381673</td>\n",
       "      <td>AK893YQY5FJIP</td>\n",
       "      <td>1.0</td>\n",
       "    </tr>\n",
       "    <tr>\n",
       "      <th>14</th>\n",
       "      <td>0439381673</td>\n",
       "      <td>A1PVJA5BYG6XOJ</td>\n",
       "      <td>5.0</td>\n",
       "    </tr>\n",
       "  </tbody>\n",
       "</table>\n",
       "</div>"
      ],
      "text/plain": [
       "        userId       productId  Rating\n",
       "0   0439381673  A21ROB4YDOZA5P     1.0\n",
       "1   0439381673  A3TNZ2Q5E7HTHD     3.0\n",
       "2   0439381673  A1OKRM3QFEATQO     4.0\n",
       "3   0439381673  A2XO1JFCNEYV3T     1.0\n",
       "4   0439381673  A19WLPIRHD15TH     4.0\n",
       "5   0439381673  A1TLA7XXSZMTS7     5.0\n",
       "6   0439381673  A3I9GK5OO42B0I     3.0\n",
       "7   0439381673  A3TPP95Y9DH3L9     5.0\n",
       "8   0439381673  A19GOZTT15KPG1     5.0\n",
       "9   0439381673  A1441WFJ5KRP7J     5.0\n",
       "10  0439381673   ATVYWID968EUQ     5.0\n",
       "11  0439381673  A3FGRYQWUEM6UP     5.0\n",
       "12  0439381673   AKQPJ6MMWXRP9     1.0\n",
       "13  0439381673   AK893YQY5FJIP     1.0\n",
       "14  0439381673  A1PVJA5BYG6XOJ     5.0"
      ]
     },
     "execution_count": 3,
     "metadata": {},
     "output_type": "execute_result"
    }
   ],
   "source": [
    "ratings_data.head(15)"
   ]
  },
  {
   "cell_type": "code",
   "execution_count": 4,
   "metadata": {},
   "outputs": [
    {
     "data": {
      "text/plain": [
       "(2565349, 3)"
      ]
     },
     "execution_count": 4,
     "metadata": {},
     "output_type": "execute_result"
    }
   ],
   "source": [
    "ratings_data.shape"
   ]
  },
  {
   "cell_type": "code",
   "execution_count": 5,
   "metadata": {},
   "outputs": [
    {
     "name": "stdout",
     "output_type": "stream",
     "text": [
      "<class 'pandas.core.frame.DataFrame'>\n",
      "RangeIndex: 2565349 entries, 0 to 2565348\n",
      "Data columns (total 3 columns):\n",
      "userId       object\n",
      "productId    object\n",
      "Rating       float64\n",
      "dtypes: float64(1), object(2)\n",
      "memory usage: 58.7+ MB\n"
     ]
    }
   ],
   "source": [
    "ratings_data.info()"
   ]
  },
  {
   "cell_type": "code",
   "execution_count": 6,
   "metadata": {},
   "outputs": [
    {
     "data": {
      "text/plain": [
       "count    2.565349e+06\n",
       "mean     4.022095e+00\n",
       "std      1.405936e+00\n",
       "min      1.000000e+00\n",
       "25%      3.000000e+00\n",
       "50%      5.000000e+00\n",
       "75%      5.000000e+00\n",
       "max      5.000000e+00\n",
       "Name: Rating, dtype: float64"
      ]
     },
     "execution_count": 6,
     "metadata": {},
     "output_type": "execute_result"
    }
   ],
   "source": [
    "ratings_data.describe()['Rating'].T"
   ]
  },
  {
   "cell_type": "code",
   "execution_count": 7,
   "metadata": {},
   "outputs": [
    {
     "data": {
      "text/plain": [
       "{'whiskers': [<matplotlib.lines.Line2D at 0x21a1c0d7780>,\n",
       "  <matplotlib.lines.Line2D at 0x21a1c0d7ac8>],\n",
       " 'caps': [<matplotlib.lines.Line2D at 0x21a1c0d7e10>,\n",
       "  <matplotlib.lines.Line2D at 0x21a1c0d7ef0>],\n",
       " 'boxes': [<matplotlib.lines.Line2D at 0x21a1c0d7358>],\n",
       " 'medians': [<matplotlib.lines.Line2D at 0x21a1c0f14e0>],\n",
       " 'fliers': [<matplotlib.lines.Line2D at 0x21a1c0f1828>],\n",
       " 'means': []}"
      ]
     },
     "execution_count": 7,
     "metadata": {},
     "output_type": "execute_result"
    },
    {
     "data": {
      "image/png": "[encoded data removed]",
      "text/plain": [
       "<Figure size 432x288 with 1 Axes>"
      ]
     },
     "metadata": {
      "needs_background": "light"
     },
     "output_type": "display_data"
    }
   ],
   "source": [
    "plt.boxplot(ratings_data['Rating'])"
   ]
  },
  {
   "cell_type": "code",
   "execution_count": 8,
   "metadata": {},
   "outputs": [
    {
     "data": {
      "text/plain": [
       "userId       0\n",
       "productId    0\n",
       "Rating       0\n",
       "dtype: int64"
      ]
     },
     "execution_count": 8,
     "metadata": {},
     "output_type": "execute_result"
    }
   ],
   "source": [
    "ratings_data.isnull().sum()"
   ]
  },
  {
   "cell_type": "code",
   "execution_count": 9,
   "metadata": {},
   "outputs": [
    {
     "data": {
      "image/png": "[encoded data removed]",
      "text/plain": [
       "<Figure size 360x360 with 1 Axes>"
      ]
     },
     "metadata": {},
     "output_type": "display_data"
    }
   ],
   "source": [
    "with sns.axes_style('darkgrid'):\n",
    "    rating_plot = sns.catplot(\"Rating\", data=ratings_data, kind='count')\n",
    "    rating_plot.set_ylabels(\"Total number of ratings\")"
   ]
  },
  {
   "cell_type": "code",
   "execution_count": 10,
   "metadata": {},
   "outputs": [
    {
     "name": "stdout",
     "output_type": "stream",
     "text": [
      "Total no of ratings : 2565349\n",
      "Total No of unique users   : 71982\n",
      "Total No of unique products  : 1540618\n"
     ]
    }
   ],
   "source": [
    "print(\"Total no of ratings :\",ratings_data.shape[0])\n",
    "print(\"Total No of unique users   :\", len(np.unique(ratings_data.userId)))\n",
    "print(\"Total No of unique products  :\", len(np.unique(ratings_data.productId)))"
   ]
  },
  {
   "cell_type": "code",
   "execution_count": 11,
   "metadata": {},
   "outputs": [
    {
     "data": {
      "text/plain": [
       "userId\n",
       "B00178630A    7630\n",
       "B00HTK1NCS    6462\n",
       "B004RMK57U    5135\n",
       "B00KKAQYXM    4359\n",
       "B00JJNQG98    3962\n",
       "B003ZSP0WW    3960\n",
       "B000ZKA0J6    3930\n",
       "B000VJRU44    3634\n",
       "B00E4MQODC    3520\n",
       "B000B9RI14    3345\n",
       "Name: Rating, dtype: int64"
      ]
     },
     "execution_count": 11,
     "metadata": {},
     "output_type": "execute_result"
    }
   ],
   "source": [
    "user_diversity_scan= ratings_data.groupby(by='userId')['Rating'].count().sort_values(ascending=False)\n",
    "\n",
    "user_diversity_scan.head(10)"
   ]
  },
  {
   "cell_type": "code",
   "execution_count": 12,
   "metadata": {},
   "outputs": [
    {
     "data": {
      "text/plain": [
       "userId\n",
       "B00IUCD0WK    1\n",
       "B00IW20SUK    1\n",
       "B000J3OSG0    1\n",
       "B00IV5I95E    1\n",
       "B000J45TKS    1\n",
       "B000J4DLWG    1\n",
       "B000J4I8JC    1\n",
       "B000J4MIBQ    1\n",
       "B000J4QVE6    1\n",
       "0042000742    1\n",
       "Name: Rating, dtype: int64"
      ]
     },
     "execution_count": 12,
     "metadata": {},
     "output_type": "execute_result"
    }
   ],
   "source": [
    "user_diversity_scan.tail(10)"
   ]
  },
  {
   "cell_type": "code",
   "execution_count": 13,
   "metadata": {},
   "outputs": [
    {
     "data": {
      "text/plain": [
       "count    71982.000000\n",
       "mean        35.638757\n",
       "std        140.211198\n",
       "min          1.000000\n",
       "25%          2.000000\n",
       "50%          5.000000\n",
       "75%         19.000000\n",
       "max       7630.000000\n",
       "Name: Rating, dtype: float64"
      ]
     },
     "execution_count": 13,
     "metadata": {},
     "output_type": "execute_result"
    }
   ],
   "source": [
    "user_diversity_scan.describe()"
   ]
  },
  {
   "cell_type": "code",
   "execution_count": 14,
   "metadata": {},
   "outputs": [
    {
     "name": "stdout",
     "output_type": "stream",
     "text": [
      " No of users who rated more than 100 items : 5223\n"
     ]
    }
   ],
   "source": [
    "print(' No of users who rated more than 100 items : {}'.format(sum(user_diversity_scan >= 100)))"
   ]
  },
  {
   "cell_type": "code",
   "execution_count": 15,
   "metadata": {},
   "outputs": [
    {
     "data": {
      "text/plain": [
       "productId\n",
       "AJKWF4W7QD4NS     888\n",
       "A3V6Z4RCDGRC44    873\n",
       "A3W4D8XOGLWUN5    746\n",
       "A2TCG2HV1VJP6V    641\n",
       "A2QHS1ZCIQOL7E    512\n",
       "A119Q9NFGVOEJZ    472\n",
       "A29BQ6B90Y1R5F    422\n",
       "A2582KMXLK2P06    365\n",
       "A74TA8X5YQ7NE     319\n",
       "A20DZX38KRBIT8    309\n",
       "Name: Rating, dtype: int64"
      ]
     },
     "execution_count": 15,
     "metadata": {},
     "output_type": "execute_result"
    }
   ],
   "source": [
    "product_popularity_scan= ratings_data.groupby(by='productId')['Rating'].count().sort_values(ascending=False)\n",
    "\n",
    "product_popularity_scan.head(10)"
   ]
  },
  {
   "cell_type": "code",
   "execution_count": 16,
   "metadata": {},
   "outputs": [
    {
     "data": {
      "text/plain": [
       "count    1.540618e+06\n",
       "mean     1.665143e+00\n",
       "std      2.892944e+00\n",
       "min      1.000000e+00\n",
       "25%      1.000000e+00\n",
       "50%      1.000000e+00\n",
       "75%      2.000000e+00\n",
       "max      8.880000e+02\n",
       "Name: Rating, dtype: float64"
      ]
     },
     "execution_count": 16,
     "metadata": {},
     "output_type": "execute_result"
    }
   ],
   "source": [
    "product_popularity_scan.describe()"
   ]
  },
  {
   "cell_type": "code",
   "execution_count": 17,
   "metadata": {},
   "outputs": [
    {
     "data": {
      "text/plain": [
       "<matplotlib.axes._subplots.AxesSubplot at 0x21a2ad759e8>"
      ]
     },
     "execution_count": 17,
     "metadata": {},
     "output_type": "execute_result"
    },
    {
     "data": {
      "image/png": "[encoded data removed]",
      "text/plain": [
       "<Figure size 432x288 with 1 Axes>"
      ]
     },
     "metadata": {
      "needs_background": "light"
     },
     "output_type": "display_data"
    }
   ],
   "source": [
    "maximum_rated_products = pd.DataFrame(ratings_data.groupby('productId')['Rating'].count())\n",
    "popularity_based_recommendations = maximum_rated_products.sort_values('Rating', ascending=False)\n",
    "popularity_based_recommendations.head(25).plot(kind = \"bar\")"
   ]
  },
  {
   "cell_type": "code",
   "execution_count": 18,
   "metadata": {},
   "outputs": [],
   "source": [
    "product_database=ratings_data.groupby(\"productId\").filter(lambda x:x['Rating'].count() >=75)"
   ]
  },
  {
   "cell_type": "code",
   "execution_count": 19,
   "metadata": {},
   "outputs": [],
   "source": [
    "ratings_per_product = product_database.groupby(by='productId')['Rating'].count().sort_values(ascending=False)"
   ]
  },
  {
   "cell_type": "code",
   "execution_count": 20,
   "metadata": {},
   "outputs": [
    {
     "data": {
      "image/png": "[encoded data removed]",
      "text/plain": [
       "<Figure size 288x288 with 1 Axes>"
      ]
     },
     "metadata": {
      "needs_background": "light"
     },
     "output_type": "display_data"
    }
   ],
   "source": [
    "\n",
    "figure = plt.figure(figsize=plt.figaspect(1))\n",
    "ax = plt.gca()\n",
    "plt.plot(ratings_per_product.values)\n",
    "plt.title('# RATINGS per Product')\n",
    "plt.xlabel('Products')\n",
    "plt.ylabel('No of ratings per product')\n",
    "ax.set_xticklabels([])\n",
    "\n",
    "plt.show()"
   ]
  },
  {
   "cell_type": "code",
   "execution_count": 21,
   "metadata": {},
   "outputs": [
    {
     "data": {
      "text/plain": [
       "productId\n",
       "A272AZYCH9WGDY    5.0\n",
       "A119Q9NFGVOEJZ    5.0\n",
       "A3KMEUY129LFLH    5.0\n",
       "A388O5MXR7HT6O    5.0\n",
       "A309NJSNDC60I2    5.0\n",
       "Name: Rating, dtype: float64"
      ]
     },
     "execution_count": 21,
     "metadata": {},
     "output_type": "execute_result"
    }
   ],
   "source": [
    "product_database.groupby('productId')['Rating'].mean().sort_values(ascending=False).head()"
   ]
  },
  {
   "cell_type": "code",
   "execution_count": 22,
   "metadata": {},
   "outputs": [
    {
     "data": {
      "text/html": [
       "<div>\n",
       "<style scoped>\n",
       "    .dataframe tbody tr th:only-of-type {\n",
       "        vertical-align: middle;\n",
       "    }\n",
       "\n",
       "    .dataframe tbody tr th {\n",
       "        vertical-align: top;\n",
       "    }\n",
       "\n",
       "    .dataframe thead th {\n",
       "        text-align: right;\n",
       "    }\n",
       "</style>\n",
       "<table border=\"1\" class=\"dataframe\">\n",
       "  <thead>\n",
       "    <tr style=\"text-align: right;\">\n",
       "      <th></th>\n",
       "      <th>Rating</th>\n",
       "      <th>rating_counts</th>\n",
       "    </tr>\n",
       "    <tr>\n",
       "      <th>productId</th>\n",
       "      <th></th>\n",
       "      <th></th>\n",
       "    </tr>\n",
       "  </thead>\n",
       "  <tbody>\n",
       "    <tr>\n",
       "      <th>A103KKI1Y4TFNQ</th>\n",
       "      <td>4.473684</td>\n",
       "      <td>76</td>\n",
       "    </tr>\n",
       "    <tr>\n",
       "      <th>A114TMHW9GRMPB</th>\n",
       "      <td>3.909677</td>\n",
       "      <td>155</td>\n",
       "    </tr>\n",
       "    <tr>\n",
       "      <th>A119Q9NFGVOEJZ</th>\n",
       "      <td>5.000000</td>\n",
       "      <td>472</td>\n",
       "    </tr>\n",
       "    <tr>\n",
       "      <th>A11LS12ZU93SV6</th>\n",
       "      <td>3.081395</td>\n",
       "      <td>86</td>\n",
       "    </tr>\n",
       "    <tr>\n",
       "      <th>A11V6ZJ2FVQY1D</th>\n",
       "      <td>4.337500</td>\n",
       "      <td>160</td>\n",
       "    </tr>\n",
       "  </tbody>\n",
       "</table>\n",
       "</div>"
      ],
      "text/plain": [
       "                  Rating  rating_counts\n",
       "productId                              \n",
       "A103KKI1Y4TFNQ  4.473684             76\n",
       "A114TMHW9GRMPB  3.909677            155\n",
       "A119Q9NFGVOEJZ  5.000000            472\n",
       "A11LS12ZU93SV6  3.081395             86\n",
       "A11V6ZJ2FVQY1D  4.337500            160"
      ]
     },
     "execution_count": 22,
     "metadata": {},
     "output_type": "execute_result"
    }
   ],
   "source": [
    "mean_ratings = pd.DataFrame(product_database.groupby('productId')['Rating'].mean())\n",
    "mean_ratings['rating_counts'] = pd.DataFrame(product_database.groupby('productId')['Rating'].count())\n",
    "mean_ratings.head()"
   ]
  },
  {
   "cell_type": "code",
   "execution_count": 23,
   "metadata": {},
   "outputs": [
    {
     "data": {
      "text/plain": [
       "<seaborn.axisgrid.JointGrid at 0x21a1c979cc0>"
      ]
     },
     "execution_count": 23,
     "metadata": {},
     "output_type": "execute_result"
    },
    {
     "data": {
      "text/plain": [
       "<Figure size 720x540 with 0 Axes>"
      ]
     },
     "metadata": {},
     "output_type": "display_data"
    },
    {
     "data": {
      "image/png": "[encoded data removed]",
      "text/plain": [
       "<Figure size 432x432 with 3 Axes>"
      ]
     },
     "metadata": {
      "needs_background": "light"
     },
     "output_type": "display_data"
    }
   ],
   "source": [
    "plt.figure(figsize=(10,7.5))\n",
    "plt.rcParams['patch.force_edgecolor'] = True\n",
    "sns.jointplot(x='Rating', y='rating_counts', data=mean_ratings, alpha=0.5)"
   ]
  },
  {
   "cell_type": "code",
   "execution_count": 24,
   "metadata": {},
   "outputs": [
    {
     "data": {
      "text/html": [
       "<div>\n",
       "<style scoped>\n",
       "    .dataframe tbody tr th:only-of-type {\n",
       "        vertical-align: middle;\n",
       "    }\n",
       "\n",
       "    .dataframe tbody tr th {\n",
       "        vertical-align: top;\n",
       "    }\n",
       "\n",
       "    .dataframe thead th {\n",
       "        text-align: right;\n",
       "    }\n",
       "</style>\n",
       "<table border=\"1\" class=\"dataframe\">\n",
       "  <thead>\n",
       "    <tr style=\"text-align: right;\">\n",
       "      <th>productId</th>\n",
       "      <th>A103KKI1Y4TFNQ</th>\n",
       "      <th>A114TMHW9GRMPB</th>\n",
       "      <th>A119Q9NFGVOEJZ</th>\n",
       "      <th>A11LS12ZU93SV6</th>\n",
       "      <th>A11V6ZJ2FVQY1D</th>\n",
       "      <th>A128WX1VPYJTUU</th>\n",
       "      <th>A12E0Y0J6584RT</th>\n",
       "      <th>A12GIOKE26ZFKJ</th>\n",
       "      <th>A12LH2100CKQO</th>\n",
       "      <th>A138826JMC0J3T</th>\n",
       "      <th>...</th>\n",
       "      <th>AQUVTQFFXP4AC</th>\n",
       "      <th>AQZH7YTWQPOBE</th>\n",
       "      <th>AROWZGGO4VTJU</th>\n",
       "      <th>ATMQ311QH86HN</th>\n",
       "      <th>AV62333WQDAXR</th>\n",
       "      <th>AVCG8SCD1BCI</th>\n",
       "      <th>AWFDFLR1DA23A</th>\n",
       "      <th>AWG2O9C42XW5G</th>\n",
       "      <th>AWRVH8TGVBJVX</th>\n",
       "      <th>AY3Y9ROK6LRPI</th>\n",
       "    </tr>\n",
       "    <tr>\n",
       "      <th>userId</th>\n",
       "      <th></th>\n",
       "      <th></th>\n",
       "      <th></th>\n",
       "      <th></th>\n",
       "      <th></th>\n",
       "      <th></th>\n",
       "      <th></th>\n",
       "      <th></th>\n",
       "      <th></th>\n",
       "      <th></th>\n",
       "      <th></th>\n",
       "      <th></th>\n",
       "      <th></th>\n",
       "      <th></th>\n",
       "      <th></th>\n",
       "      <th></th>\n",
       "      <th></th>\n",
       "      <th></th>\n",
       "      <th></th>\n",
       "      <th></th>\n",
       "      <th></th>\n",
       "    </tr>\n",
       "  </thead>\n",
       "  <tbody>\n",
       "    <tr>\n",
       "      <th>0700026398</th>\n",
       "      <td>0</td>\n",
       "      <td>0</td>\n",
       "      <td>0</td>\n",
       "      <td>0.0</td>\n",
       "      <td>0</td>\n",
       "      <td>0</td>\n",
       "      <td>0</td>\n",
       "      <td>0</td>\n",
       "      <td>0</td>\n",
       "      <td>0</td>\n",
       "      <td>...</td>\n",
       "      <td>0</td>\n",
       "      <td>0</td>\n",
       "      <td>0.0</td>\n",
       "      <td>0</td>\n",
       "      <td>0</td>\n",
       "      <td>0</td>\n",
       "      <td>0</td>\n",
       "      <td>0</td>\n",
       "      <td>0</td>\n",
       "      <td>0</td>\n",
       "    </tr>\n",
       "    <tr>\n",
       "      <th>0700026657</th>\n",
       "      <td>0</td>\n",
       "      <td>0</td>\n",
       "      <td>0</td>\n",
       "      <td>0.0</td>\n",
       "      <td>4</td>\n",
       "      <td>0</td>\n",
       "      <td>0</td>\n",
       "      <td>0</td>\n",
       "      <td>0</td>\n",
       "      <td>0</td>\n",
       "      <td>...</td>\n",
       "      <td>0</td>\n",
       "      <td>0</td>\n",
       "      <td>0.0</td>\n",
       "      <td>0</td>\n",
       "      <td>0</td>\n",
       "      <td>0</td>\n",
       "      <td>0</td>\n",
       "      <td>0</td>\n",
       "      <td>0</td>\n",
       "      <td>0</td>\n",
       "    </tr>\n",
       "    <tr>\n",
       "      <th>0804161380</th>\n",
       "      <td>0</td>\n",
       "      <td>0</td>\n",
       "      <td>0</td>\n",
       "      <td>0.0</td>\n",
       "      <td>0</td>\n",
       "      <td>0</td>\n",
       "      <td>0</td>\n",
       "      <td>0</td>\n",
       "      <td>0</td>\n",
       "      <td>0</td>\n",
       "      <td>...</td>\n",
       "      <td>0</td>\n",
       "      <td>0</td>\n",
       "      <td>0.0</td>\n",
       "      <td>0</td>\n",
       "      <td>0</td>\n",
       "      <td>0</td>\n",
       "      <td>0</td>\n",
       "      <td>0</td>\n",
       "      <td>0</td>\n",
       "      <td>0</td>\n",
       "    </tr>\n",
       "    <tr>\n",
       "      <th>1888449543</th>\n",
       "      <td>0</td>\n",
       "      <td>0</td>\n",
       "      <td>0</td>\n",
       "      <td>0.0</td>\n",
       "      <td>0</td>\n",
       "      <td>0</td>\n",
       "      <td>5</td>\n",
       "      <td>0</td>\n",
       "      <td>0</td>\n",
       "      <td>0</td>\n",
       "      <td>...</td>\n",
       "      <td>0</td>\n",
       "      <td>0</td>\n",
       "      <td>0.0</td>\n",
       "      <td>0</td>\n",
       "      <td>0</td>\n",
       "      <td>0</td>\n",
       "      <td>0</td>\n",
       "      <td>0</td>\n",
       "      <td>0</td>\n",
       "      <td>0</td>\n",
       "    </tr>\n",
       "    <tr>\n",
       "      <th>7293000960</th>\n",
       "      <td>0</td>\n",
       "      <td>0</td>\n",
       "      <td>0</td>\n",
       "      <td>0.0</td>\n",
       "      <td>0</td>\n",
       "      <td>0</td>\n",
       "      <td>0</td>\n",
       "      <td>0</td>\n",
       "      <td>0</td>\n",
       "      <td>0</td>\n",
       "      <td>...</td>\n",
       "      <td>0</td>\n",
       "      <td>0</td>\n",
       "      <td>0.0</td>\n",
       "      <td>0</td>\n",
       "      <td>0</td>\n",
       "      <td>0</td>\n",
       "      <td>0</td>\n",
       "      <td>0</td>\n",
       "      <td>0</td>\n",
       "      <td>0</td>\n",
       "    </tr>\n",
       "  </tbody>\n",
       "</table>\n",
       "<p>5 rows × 203 columns</p>\n",
       "</div>"
      ],
      "text/plain": [
       "productId   A103KKI1Y4TFNQ  A114TMHW9GRMPB  A119Q9NFGVOEJZ  A11LS12ZU93SV6  \\\n",
       "userId                                                                       \n",
       "0700026398               0               0               0             0.0   \n",
       "0700026657               0               0               0             0.0   \n",
       "0804161380               0               0               0             0.0   \n",
       "1888449543               0               0               0             0.0   \n",
       "7293000960               0               0               0             0.0   \n",
       "\n",
       "productId   A11V6ZJ2FVQY1D  A128WX1VPYJTUU  A12E0Y0J6584RT  A12GIOKE26ZFKJ  \\\n",
       "userId                                                                       \n",
       "0700026398               0               0               0               0   \n",
       "0700026657               4               0               0               0   \n",
       "0804161380               0               0               0               0   \n",
       "1888449543               0               0               5               0   \n",
       "7293000960               0               0               0               0   \n",
       "\n",
       "productId   A12LH2100CKQO  A138826JMC0J3T  ...  AQUVTQFFXP4AC  AQZH7YTWQPOBE  \\\n",
       "userId                                     ...                                 \n",
       "0700026398              0               0  ...              0              0   \n",
       "0700026657              0               0  ...              0              0   \n",
       "0804161380              0               0  ...              0              0   \n",
       "1888449543              0               0  ...              0              0   \n",
       "7293000960              0               0  ...              0              0   \n",
       "\n",
       "productId   AROWZGGO4VTJU  ATMQ311QH86HN  AV62333WQDAXR  AVCG8SCD1BCI  \\\n",
       "userId                                                                  \n",
       "0700026398            0.0              0              0             0   \n",
       "0700026657            0.0              0              0             0   \n",
       "0804161380            0.0              0              0             0   \n",
       "1888449543            0.0              0              0             0   \n",
       "7293000960            0.0              0              0             0   \n",
       "\n",
       "productId   AWFDFLR1DA23A  AWG2O9C42XW5G  AWRVH8TGVBJVX  AY3Y9ROK6LRPI  \n",
       "userId                                                                  \n",
       "0700026398              0              0              0              0  \n",
       "0700026657              0              0              0              0  \n",
       "0804161380              0              0              0              0  \n",
       "1888449543              0              0              0              0  \n",
       "7293000960              0              0              0              0  \n",
       "\n",
       "[5 rows x 203 columns]"
      ]
     },
     "execution_count": 24,
     "metadata": {},
     "output_type": "execute_result"
    }
   ],
   "source": [
    "collaborative_recommending_matrix = product_database.pivot_table(values='Rating', index='userId', columns='productId', fill_value=0)\n",
    "collaborative_recommending_matrix.head()"
   ]
  },
  {
   "cell_type": "code",
   "execution_count": 25,
   "metadata": {},
   "outputs": [
    {
     "data": {
      "text/plain": [
       "(12041, 203)"
      ]
     },
     "execution_count": 25,
     "metadata": {},
     "output_type": "execute_result"
    }
   ],
   "source": [
    "collaborative_recommending_matrix.shape"
   ]
  },
  {
   "cell_type": "code",
   "execution_count": 26,
   "metadata": {},
   "outputs": [
    {
     "data": {
      "text/html": [
       "<div>\n",
       "<style scoped>\n",
       "    .dataframe tbody tr th:only-of-type {\n",
       "        vertical-align: middle;\n",
       "    }\n",
       "\n",
       "    .dataframe tbody tr th {\n",
       "        vertical-align: top;\n",
       "    }\n",
       "\n",
       "    .dataframe thead th {\n",
       "        text-align: right;\n",
       "    }\n",
       "</style>\n",
       "<table border=\"1\" class=\"dataframe\">\n",
       "  <thead>\n",
       "    <tr style=\"text-align: right;\">\n",
       "      <th>userId</th>\n",
       "      <th>0700026398</th>\n",
       "      <th>0700026657</th>\n",
       "      <th>0804161380</th>\n",
       "      <th>1888449543</th>\n",
       "      <th>7293000960</th>\n",
       "      <th>9625990674</th>\n",
       "      <th>9629971372</th>\n",
       "      <th>9755334602</th>\n",
       "      <th>9882106463</th>\n",
       "      <th>9882155456</th>\n",
       "      <th>...</th>\n",
       "      <th>B01H2DKHCS</th>\n",
       "      <th>B01H2DKHPA</th>\n",
       "      <th>B01H2DKI3G</th>\n",
       "      <th>B01H3NU4OS</th>\n",
       "      <th>B01H6SM5CY</th>\n",
       "      <th>B01HC8QZG0</th>\n",
       "      <th>B01HDNOJOE</th>\n",
       "      <th>B01HFRICLE</th>\n",
       "      <th>B01HH6JEOC</th>\n",
       "      <th>B01HIZF7XE</th>\n",
       "    </tr>\n",
       "    <tr>\n",
       "      <th>productId</th>\n",
       "      <th></th>\n",
       "      <th></th>\n",
       "      <th></th>\n",
       "      <th></th>\n",
       "      <th></th>\n",
       "      <th></th>\n",
       "      <th></th>\n",
       "      <th></th>\n",
       "      <th></th>\n",
       "      <th></th>\n",
       "      <th></th>\n",
       "      <th></th>\n",
       "      <th></th>\n",
       "      <th></th>\n",
       "      <th></th>\n",
       "      <th></th>\n",
       "      <th></th>\n",
       "      <th></th>\n",
       "      <th></th>\n",
       "      <th></th>\n",
       "      <th></th>\n",
       "    </tr>\n",
       "  </thead>\n",
       "  <tbody>\n",
       "    <tr>\n",
       "      <th>A103KKI1Y4TFNQ</th>\n",
       "      <td>0.0</td>\n",
       "      <td>0.0</td>\n",
       "      <td>0.0</td>\n",
       "      <td>0.0</td>\n",
       "      <td>0.0</td>\n",
       "      <td>0.0</td>\n",
       "      <td>0.0</td>\n",
       "      <td>0.0</td>\n",
       "      <td>0.0</td>\n",
       "      <td>0.0</td>\n",
       "      <td>...</td>\n",
       "      <td>0.0</td>\n",
       "      <td>0.0</td>\n",
       "      <td>0.0</td>\n",
       "      <td>0.0</td>\n",
       "      <td>0.0</td>\n",
       "      <td>0.0</td>\n",
       "      <td>0.0</td>\n",
       "      <td>0.0</td>\n",
       "      <td>0.0</td>\n",
       "      <td>0.0</td>\n",
       "    </tr>\n",
       "    <tr>\n",
       "      <th>A114TMHW9GRMPB</th>\n",
       "      <td>0.0</td>\n",
       "      <td>0.0</td>\n",
       "      <td>0.0</td>\n",
       "      <td>0.0</td>\n",
       "      <td>0.0</td>\n",
       "      <td>0.0</td>\n",
       "      <td>0.0</td>\n",
       "      <td>0.0</td>\n",
       "      <td>0.0</td>\n",
       "      <td>0.0</td>\n",
       "      <td>...</td>\n",
       "      <td>0.0</td>\n",
       "      <td>0.0</td>\n",
       "      <td>0.0</td>\n",
       "      <td>0.0</td>\n",
       "      <td>0.0</td>\n",
       "      <td>1.0</td>\n",
       "      <td>0.0</td>\n",
       "      <td>0.0</td>\n",
       "      <td>0.0</td>\n",
       "      <td>0.0</td>\n",
       "    </tr>\n",
       "    <tr>\n",
       "      <th>A119Q9NFGVOEJZ</th>\n",
       "      <td>0.0</td>\n",
       "      <td>0.0</td>\n",
       "      <td>0.0</td>\n",
       "      <td>0.0</td>\n",
       "      <td>0.0</td>\n",
       "      <td>0.0</td>\n",
       "      <td>0.0</td>\n",
       "      <td>0.0</td>\n",
       "      <td>0.0</td>\n",
       "      <td>0.0</td>\n",
       "      <td>...</td>\n",
       "      <td>0.0</td>\n",
       "      <td>0.0</td>\n",
       "      <td>0.0</td>\n",
       "      <td>0.0</td>\n",
       "      <td>0.0</td>\n",
       "      <td>0.0</td>\n",
       "      <td>0.0</td>\n",
       "      <td>0.0</td>\n",
       "      <td>0.0</td>\n",
       "      <td>0.0</td>\n",
       "    </tr>\n",
       "    <tr>\n",
       "      <th>A11LS12ZU93SV6</th>\n",
       "      <td>0.0</td>\n",
       "      <td>0.0</td>\n",
       "      <td>0.0</td>\n",
       "      <td>0.0</td>\n",
       "      <td>0.0</td>\n",
       "      <td>0.0</td>\n",
       "      <td>0.0</td>\n",
       "      <td>0.0</td>\n",
       "      <td>0.0</td>\n",
       "      <td>0.0</td>\n",
       "      <td>...</td>\n",
       "      <td>0.0</td>\n",
       "      <td>0.0</td>\n",
       "      <td>0.0</td>\n",
       "      <td>0.0</td>\n",
       "      <td>0.0</td>\n",
       "      <td>0.0</td>\n",
       "      <td>0.0</td>\n",
       "      <td>0.0</td>\n",
       "      <td>0.0</td>\n",
       "      <td>0.0</td>\n",
       "    </tr>\n",
       "    <tr>\n",
       "      <th>A11V6ZJ2FVQY1D</th>\n",
       "      <td>0.0</td>\n",
       "      <td>4.0</td>\n",
       "      <td>0.0</td>\n",
       "      <td>0.0</td>\n",
       "      <td>0.0</td>\n",
       "      <td>0.0</td>\n",
       "      <td>0.0</td>\n",
       "      <td>0.0</td>\n",
       "      <td>0.0</td>\n",
       "      <td>0.0</td>\n",
       "      <td>...</td>\n",
       "      <td>0.0</td>\n",
       "      <td>0.0</td>\n",
       "      <td>0.0</td>\n",
       "      <td>0.0</td>\n",
       "      <td>0.0</td>\n",
       "      <td>0.0</td>\n",
       "      <td>0.0</td>\n",
       "      <td>0.0</td>\n",
       "      <td>0.0</td>\n",
       "      <td>0.0</td>\n",
       "    </tr>\n",
       "  </tbody>\n",
       "</table>\n",
       "<p>5 rows × 12041 columns</p>\n",
       "</div>"
      ],
      "text/plain": [
       "userId          0700026398  0700026657  0804161380  1888449543  7293000960  \\\n",
       "productId                                                                    \n",
       "A103KKI1Y4TFNQ         0.0         0.0         0.0         0.0         0.0   \n",
       "A114TMHW9GRMPB         0.0         0.0         0.0         0.0         0.0   \n",
       "A119Q9NFGVOEJZ         0.0         0.0         0.0         0.0         0.0   \n",
       "A11LS12ZU93SV6         0.0         0.0         0.0         0.0         0.0   \n",
       "A11V6ZJ2FVQY1D         0.0         4.0         0.0         0.0         0.0   \n",
       "\n",
       "userId          9625990674  9629971372  9755334602  9882106463  9882155456  \\\n",
       "productId                                                                    \n",
       "A103KKI1Y4TFNQ         0.0         0.0         0.0         0.0         0.0   \n",
       "A114TMHW9GRMPB         0.0         0.0         0.0         0.0         0.0   \n",
       "A119Q9NFGVOEJZ         0.0         0.0         0.0         0.0         0.0   \n",
       "A11LS12ZU93SV6         0.0         0.0         0.0         0.0         0.0   \n",
       "A11V6ZJ2FVQY1D         0.0         0.0         0.0         0.0         0.0   \n",
       "\n",
       "userId          ...  B01H2DKHCS  B01H2DKHPA  B01H2DKI3G  B01H3NU4OS  \\\n",
       "productId       ...                                                   \n",
       "A103KKI1Y4TFNQ  ...         0.0         0.0         0.0         0.0   \n",
       "A114TMHW9GRMPB  ...         0.0         0.0         0.0         0.0   \n",
       "A119Q9NFGVOEJZ  ...         0.0         0.0         0.0         0.0   \n",
       "A11LS12ZU93SV6  ...         0.0         0.0         0.0         0.0   \n",
       "A11V6ZJ2FVQY1D  ...         0.0         0.0         0.0         0.0   \n",
       "\n",
       "userId          B01H6SM5CY  B01HC8QZG0  B01HDNOJOE  B01HFRICLE  B01HH6JEOC  \\\n",
       "productId                                                                    \n",
       "A103KKI1Y4TFNQ         0.0         0.0         0.0         0.0         0.0   \n",
       "A114TMHW9GRMPB         0.0         1.0         0.0         0.0         0.0   \n",
       "A119Q9NFGVOEJZ         0.0         0.0         0.0         0.0         0.0   \n",
       "A11LS12ZU93SV6         0.0         0.0         0.0         0.0         0.0   \n",
       "A11V6ZJ2FVQY1D         0.0         0.0         0.0         0.0         0.0   \n",
       "\n",
       "userId          B01HIZF7XE  \n",
       "productId                   \n",
       "A103KKI1Y4TFNQ         0.0  \n",
       "A114TMHW9GRMPB         0.0  \n",
       "A119Q9NFGVOEJZ         0.0  \n",
       "A11LS12ZU93SV6         0.0  \n",
       "A11V6ZJ2FVQY1D         0.0  \n",
       "\n",
       "[5 rows x 12041 columns]"
      ]
     },
     "execution_count": 26,
     "metadata": {},
     "output_type": "execute_result"
    }
   ],
   "source": [
    "product_based_matrix = collaborative_recommending_matrix.T\n",
    "product_based_matrix.head()"
   ]
  },
  {
   "cell_type": "code",
   "execution_count": 27,
   "metadata": {},
   "outputs": [
    {
     "data": {
      "text/plain": [
       "(203, 10)"
      ]
     },
     "execution_count": 27,
     "metadata": {},
     "output_type": "execute_result"
    }
   ],
   "source": [
    "SVD = TruncatedSVD(n_components=10)\n",
    "reduced_matrix = SVD.fit_transform(product_based_matrix)\n",
    "reduced_matrix.shape"
   ]
  },
  {
   "cell_type": "code",
   "execution_count": 28,
   "metadata": {},
   "outputs": [
    {
     "data": {
      "text/plain": [
       "(203, 203)"
      ]
     },
     "execution_count": 28,
     "metadata": {},
     "output_type": "execute_result"
    }
   ],
   "source": [
    "correlation_data = np.corrcoef(reduced_matrix)\n",
    "correlation_data.shape"
   ]
  },
  {
   "cell_type": "code",
   "execution_count": 29,
   "metadata": {},
   "outputs": [
    {
     "data": {
      "text/plain": [
       "'A1TBH70C1M4YZL'"
      ]
     },
     "execution_count": 29,
     "metadata": {},
     "output_type": "execute_result"
    }
   ],
   "source": [
    "product_based_matrix.index[47]"
   ]
  },
  {
   "cell_type": "code",
   "execution_count": 30,
   "metadata": {},
   "outputs": [
    {
     "data": {
      "text/plain": [
       "24"
      ]
     },
     "execution_count": 30,
     "metadata": {},
     "output_type": "execute_result"
    }
   ],
   "source": [
    "i = product_based_matrix.index[24]\n",
    "\n",
    "product_names = list(product_based_matrix.index)\n",
    "product_ID = product_names.index(i)\n",
    "product_ID\n"
   ]
  },
  {
   "cell_type": "code",
   "execution_count": 31,
   "metadata": {},
   "outputs": [
    {
     "data": {
      "text/plain": [
       "(203,)"
      ]
     },
     "execution_count": 31,
     "metadata": {},
     "output_type": "execute_result"
    }
   ],
   "source": [
    "correlation_product_ID = correlation_data[product_ID]\n",
    "correlation_product_ID.shape"
   ]
  },
  {
   "cell_type": "code",
   "execution_count": 32,
   "metadata": {},
   "outputs": [
    {
     "data": {
      "text/plain": [
       "['A11V6ZJ2FVQY1D',\n",
       " 'A1N9PBE884OV7I',\n",
       " 'A2M7CLVA0KIHQF',\n",
       " 'A2X8KN82L07RSK',\n",
       " 'A309NJSNDC60I2',\n",
       " 'A32JKNQ6BABMQ2',\n",
       " 'A34UVV757IKPVB',\n",
       " 'A3K91X9X2ARDOK',\n",
       " 'A3PPXVR5J6U2JD']"
      ]
     },
     "execution_count": 32,
     "metadata": {},
     "output_type": "execute_result"
    }
   ],
   "source": [
    "Recommend = list(product_based_matrix.index[correlation_product_ID > 0.90])\n",
    "\n",
    "\n",
    "Recommend.remove(i) \n",
    "\n",
    "Recommend[0:9]"
   ]
  },
  {
   "cell_type": "code",
   "execution_count": null,
   "metadata": {},
   "outputs": [],
   "source": []
  }
 ],
 "metadata": {
  "kernelspec": {
   "display_name": "Python 3",
   "language": "python",
   "name": "python3"
  },
  "language_info": {
   "codemirror_mode": {
    "name": "ipython",
    "version": 3
   },
   "file_extension": ".py",
   "mimetype": "text/x-python",
   "name": "python",
   "nbconvert_exporter": "python",
   "pygments_lexer": "ipython3",
   "version": "3.7.3"
  }
 },
 "nbformat": 4,
 "nbformat_minor": 4
}
